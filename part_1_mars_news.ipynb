{
 "cells": [
  {
   "cell_type": "markdown",
   "metadata": {
    "id": "lVMAz97wmFQv"
   },
   "source": [
    "# Module 12 Challenge\n",
    "## Deliverable 1: Scrape Titles and Preview Text from Mars News"
   ]
  },
  {
   "cell_type": "code",
   "execution_count": 1,
   "metadata": {
    "id": "VqdR5fRGmFQy"
   },
   "outputs": [],
   "source": [
    "# Import Splinter and BeautifulSoup\n",
    "from splinter import Browser\n",
    "from bs4 import BeautifulSoup as soup\n",
    "from webdriver_manager.chrome import ChromeDriverManager"
   ]
  },
  {
   "cell_type": "code",
   "execution_count": 24,
   "metadata": {
    "colab": {
     "base_uri": "https://localhost:8080/",
     "height": 345
    },
    "executionInfo": {
     "elapsed": 1010,
     "status": "error",
     "timestamp": 1671458142641,
     "user": {
      "displayName": "Frank Passalacqua",
      "userId": "15567552955374082789"
     },
     "user_tz": 300
    },
    "id": "spXprzggmFQz",
    "outputId": "a5908ef5-dd4b-44a7-f327-ab830499dfcd",
    "scrolled": true
   },
   "outputs": [],
   "source": [
    "executable_path = {'executable_path': ChromeDriverManager().install()}\n",
    "browser = Browser('chrome', **executable_path, headless=False)"
   ]
  },
  {
   "cell_type": "markdown",
   "metadata": {
    "id": "T23gZhfbmFQ0"
   },
   "source": [
    "### Step 1: Visit the Website\n",
    "\n",
    "1. Use automated browsing to visit the [Mars NASA news site](https://redplanetscience.com). Inspect the page to identify which elements to scrape.\n",
    "\n",
    "      > **Hint** To identify which elements to scrape, you might want to inspect the page by using Chrome DevTools."
   ]
  },
  {
   "cell_type": "code",
   "execution_count": 25,
   "metadata": {
    "id": "wvj0CO-YmFQ0"
   },
   "outputs": [],
   "source": [
    "# Visit the Mars NASA news site: https://redplanetscience.com\n",
    "url = 'https://redplanetscience.com'\n",
    "browser.visit(url)"
   ]
  },
  {
   "cell_type": "markdown",
   "metadata": {
    "id": "mc4KBe7SmFQ0"
   },
   "source": [
    "### Step 2: Scrape the Website\n",
    "\n",
    "Create a Beautiful Soup object and use it to extract text elements from the website."
   ]
  },
  {
   "cell_type": "code",
   "execution_count": 26,
   "metadata": {
    "id": "JEx9cAlfmFQ1"
   },
   "outputs": [],
   "source": [
    "# Create a Beautiful Soup object\n",
    "html = browser.html\n",
    "html_soup = soup(html, 'html.parser')"
   ]
  },
  {
   "cell_type": "code",
   "execution_count": 27,
   "metadata": {
    "id": "dA8VnPpnmFQ1"
   },
   "outputs": [
    {
     "data": {
      "text/plain": [
       "\"\\n\\n\\n\\n\\n\\n\\nNews - Mars Exploration Program\\n\\n\\n\\n\\n\\n\\n\\nMARS Planet Science\\nExploration Program\\n\\n\\n\\n\\n\\n\\n\\nThe Red Planet\\n\\n\\nThe Program\\n\\n\\nNews & Events\\n\\n\\nMultimedia\\n\\n\\nMissions\\n\\n\\nMore\\n\\n\\n\\n\\n\\n\\n\\n\\n\\n\\nNews\\n\\n\\n\\n\\n\\n\\n\\n\\nLatest\\n20202019\\n\\n\\n\\nAll Categories\\nStatus ReportsFeature StoriesPress Releases\\n\\n\\n\\n\\n\\n\\n\\n\\n\\n\\n\\n\\n\\n\\n\\n\\n\\n\\n\\nDecember 20, 2022\\nNASA Engineers Checking InSight's Weather Sensors\\nAn electronics issue is suspected to be preventing the sensors from sharing their data about Mars weather with the spacecraft.\\n\\n\\n\\n\\n\\n\\n\\n\\n\\n\\n\\n\\n\\n\\nDecember 19, 2022\\n7 Things to Know About the Mars 2020 Perseverance Rover Mission\\nNASA's next rover to the Red Planet is slated to launch no earlier than July 30. These highlights will get you up to speed on the ambitious mission.\\n\\n\\n\\n\\n\\n\\n\\n\\n\\n\\n\\n\\n\\n\\nDecember 14, 2022\\nIndependent Review Indicates NASA Prepared for Mars Sample Return Campaign\\nNASA released an independent review report Tuesday indicating the agency is well positioned for its Mars Sample Return campaign to bring pristine samples from Mars to Earth for scientific study.\\n\\n\\n\\n\\n\\n\\n\\n\\n\\n\\n\\n\\n\\n\\nDecember 14, 2022\\nMars Is Getting a New Robotic Meteorologist\\nSensors on NASA's Perseverance will help prepare for future human exploration by taking weather measurements and studying dust particles.\\n\\n\\n\\n\\n\\n\\n\\n\\n\\n\\n\\n\\n\\n\\nDecember 12, 2022\\nScreening Soon: 'The Pathfinders' Trains Lens on Mars\\nWith the Mars 2020 mission ramping up, the documentary — the first of four about past JPL missions to the Red Planet to be shown at Caltech — tells a gripping backstory.\\n\\n\\n\\n\\n\\n\\n\\n\\n\\n\\n\\n\\n\\n\\nDecember 11, 2022\\nNASA's Perseverance Rover 100 Days Out\\nMark your calendars: The agency's latest rover has only about 8,640,000 seconds to go before it touches down on the Red Planet, becoming history's next Mars car.\\n\\n\\n\\n\\n\\n\\n\\n\\n\\n\\n\\n\\n\\n\\nDecember 10, 2022\\nNASA's Treasure Map for Water Ice on Mars\\nA new study identifies frozen water just below the Martian surface, where astronauts could easily dig it up.\\n\\n\\n\\n\\n\\n\\n\\n\\n\\n\\n\\n\\n\\n\\nDecember 8, 2022\\nNASA's Mars 2020 Rover Closer to Getting Its Name\\n155 students from across the U.S. have been chosen as semifinalists in NASA's essay contest to name the Mars 2020 rover, and see it launch from Cape Canaveral this July.\\n\\n\\n\\n\\n\\n\\n\\n\\n\\n\\n\\n\\n\\n\\nDecember 6, 2022\\nNASA's Mars 2020 Rover Goes Coast-to-Coast to Prep for Launch\\nThe agency's first step in returning rocks from Mars just arrived at Kennedy Space Center. The Mars 2020 team now begins readying for a launch to the Red Planet this July.\\n\\n\\n\\n\\n\\n\\n\\n\\n\\n\\n\\n\\n\\n\\nDecember 2, 2022\\nNASA's Mars 2020 Rover Completes Its First Drive\\nIn a 10-plus-hour marathon, the rover steered, turned and drove in 3-foot (1-meter) increments over small ramps.\\n\\n\\n\\n\\n\\n\\n\\n\\n\\n\\n\\n\\n\\n\\nNovember 30, 2022\\nHow NASA's Mars Helicopter Will Reach the Red Planet's Surface\\nThe small craft will seek to prove that powered, controlled flight is possible on another planet. But just getting it onto the surface of Mars will take a whole lot of ingenuity.\\n\\n\\n\\n\\n\\n\\n\\n\\n\\n\\n\\n\\n\\n\\nNovember 30, 2022\\nMars 2020 Unwrapped and Ready for More Testing\\nIn time-lapse video, bunny-suited engineers remove the inner layer of protective foil on NASA's Mars 2020 rover after it was relocated for testing.\\n\\n\\n\\n\\n\\n\\n\\n\\n\\n\\n\\n\\n\\n\\nNovember 24, 2022\\nMars 2020 Stands on Its Own Six Wheels\\nIn time-lapse video, taken at JPL, captures the first time NASA's Mars 2020 rover carries its full weight on its legs and wheels.\\n\\n\\n\\n\\n\\n\\n\\n\\n\\n\\n\\n\\n\\n\\nNovember 22, 2022\\nNASA's Push to Save the Mars InSight Lander's Heat Probe\\nThe scoop on the end of the spacecraft's robotic arm will be used to 'pin' the mole against the wall of its hole.\\n\\n\\n\\n\\n\\n\\n\\n\\n\\n\\n\\n\\n\\n\\nNovember 22, 2022\\nNASA's Perseverance Rover Mission Getting in Shape for Launch\\nStacking spacecraft components on top of each other is one of the final assembly steps before a mission launches to the Red Planet. \\n\\n\\n\\n\\n\\n\\nMore\\n\\n\\n\\n\\n\\nYou Might Also Like\\n\\n\\n\\n\\n\\n\\n\\n\\n\\n\\n\\nNASA to Broadcast Mars 2020 Perseverance Launch, Prelaunch Activities\\n\\n\\n\\n\\n\\n\\n\\nThe Launch Is Approaching for NASA's Next Mars Rover, Perseverance\\n\\n\\n\\n\\n\\n\\n\\nNASA to Hold Mars 2020 Perseverance Rover Launch Briefing\\n\\n\\n\\n\\n\\n\\n\\n\\n\\n\\n\\nWith supporting text below as a natural lead-in to additional content.\\n\\n\\n\\n\\n\\n\\n\\nWith supporting text below as a natural lead-in to additional content.\\n\\n\\n\\n\\n\\n\\n\\nWith supporting text below as a natural lead-in to additional content.\\n\\n\\n\\n\\n\\n\\n\\n\\n\\n\\n\\nWith supporting text below as a natural lead-in to additional content.\\n\\n\\n\\n\\n\\n\\n\\nWith supporting text below as a natural lead-in to additional content.\\n\\n\\n\\n\\n\\n\\n\\nWith supporting text below as a natural lead-in to additional content.\\n\\n\\n\\n\\n\\n\\n\\n\\n\\n\\n\\n\\n\\n\\n\\n\\nThe Red Planet\\n\\nDashboard\\nScience Goals\\nThe Planet\\n\\n\\n\\nThe Program\\n\\nMission Statement\\nAbout the Program\\nOrganization Why Mars?\\n\\n\\n\\nMultimedia\\n\\nImages\\nVideos\\nMore Resources\\n\\n\\n\\nMissions\\n\\nPast\\nPresent\\nFuture\\n\\n\\n\\n\\n\\n\\n\\n\\n\\n\\n\""
      ]
     },
     "execution_count": 27,
     "metadata": {},
     "output_type": "execute_result"
    }
   ],
   "source": [
    "# Extract all the text elements\n",
    "html_soup.get_text()"
   ]
  },
  {
   "cell_type": "markdown",
   "metadata": {
    "id": "v2LytvFzmFQ1"
   },
   "source": [
    "### Step 3: Store the Results\n",
    "\n",
    "Extract the titles and preview text of the news articles that you scraped. Store the scraping results in Python data structures as follows:\n",
    "\n",
    "* Store each title-and-preview pair in a Python dictionary. And, give each dictionary two keys: `title` and `preview`. An example is the following:\n",
    "\n",
    "  ```python\n",
    "  {'title': \"Mars Rover Begins Mission!\", \n",
    "        'preview': \"NASA's Mars Rover begins a multiyear mission to collect data about the little-explored planet.\"}\n",
    "  ```\n",
    "\n",
    "* Store all the dictionaries in a Python list.\n",
    "\n",
    "* Print the list in your notebook."
   ]
  },
  {
   "cell_type": "code",
   "execution_count": 42,
   "metadata": {
    "id": "msPfDD_emFQ2"
   },
   "outputs": [],
   "source": [
    "# Create an empty list to store the dictionaries\n",
    "articles = []\n"
   ]
  },
  {
   "cell_type": "code",
   "execution_count": 43,
   "metadata": {
    "id": "XnPN_uDvmFQ2"
   },
   "outputs": [],
   "source": [
    "# Loop through the text elements\n",
    "# Extract the title and preview text from the elements\n",
    "# Store each title and preview pair in a dictionary\n",
    "# Add the dictionary to the list\n",
    "titles = html_soup.find_all('div', class_='content_title')\n",
    "previews = html_soup.find_all('div', class_='article_teaser_body')\n",
    "\n",
    "titles_text = [title.text for title in titles]\n",
    "previews_text = [preview.text for preview in previews]    \n",
    "\n",
    "for i in range(len(titles_text)):\n",
    "    article_dict = {}\n",
    "    article_dict['title'] = titles_text[i]\n",
    "    article_dict['preview'] = previews_text[i]\n",
    "    articles.append(article_dict)"
   ]
  },
  {
   "cell_type": "code",
   "execution_count": 44,
   "metadata": {
    "id": "krcAZ5GumFQ3",
    "outputId": "0c275780-d532-4bd2-bd48-19071a8c3c64"
   },
   "outputs": [
    {
     "name": "stdout",
     "output_type": "stream",
     "text": [
      "[{'title': \"NASA Engineers Checking InSight's Weather Sensors\", 'preview': 'An electronics issue is suspected to be preventing the sensors from sharing their data about Mars weather with the spacecraft.'}, {'title': '7 Things to Know About the Mars 2020 Perseverance Rover Mission', 'preview': \"NASA's next rover to the Red Planet is slated to launch no earlier than July 30. These highlights will get you up to speed on the ambitious mission.\"}, {'title': 'Independent Review Indicates NASA Prepared for Mars Sample Return Campaign', 'preview': 'NASA released an independent review report Tuesday indicating the agency is well positioned for its Mars Sample Return campaign to bring pristine samples from Mars to Earth for scientific study.'}, {'title': 'Mars Is Getting a New Robotic Meteorologist', 'preview': \"Sensors on NASA's Perseverance will help prepare for future human exploration by taking weather measurements and studying dust particles.\"}, {'title': \"Screening Soon: 'The Pathfinders' Trains Lens on Mars\", 'preview': 'With the Mars 2020 mission ramping up, the documentary — the first of four about past JPL missions to the Red Planet to be shown at Caltech — tells a gripping backstory.'}, {'title': \"NASA's Perseverance Rover 100 Days Out\", 'preview': \"Mark your calendars: The agency's latest rover has only about 8,640,000 seconds to go before it touches down on the Red Planet, becoming history's next Mars car.\"}, {'title': \"NASA's Treasure Map for Water Ice on Mars\", 'preview': 'A new study identifies frozen water just below the Martian surface, where astronauts could easily dig it up.'}, {'title': \"NASA's Mars 2020 Rover Closer to Getting Its Name\", 'preview': \"155 students from across the U.S. have been chosen as semifinalists in NASA's essay contest to name the Mars 2020 rover, and see it launch from Cape Canaveral this July.\"}, {'title': \"NASA's Mars 2020 Rover Goes Coast-to-Coast to Prep for Launch\", 'preview': \"The agency's first step in returning rocks from Mars just arrived at Kennedy Space Center. The Mars 2020 team now begins readying for a launch to the Red Planet this July.\"}, {'title': \"NASA's Mars 2020 Rover Completes Its First Drive\", 'preview': 'In a 10-plus-hour marathon, the rover steered, turned and drove in 3-foot (1-meter) increments over small ramps.'}, {'title': \"How NASA's Mars Helicopter Will Reach the Red Planet's Surface\", 'preview': 'The small craft will seek to prove that powered, controlled flight is possible on another planet. But just getting it onto the surface of Mars will take a whole lot of ingenuity.'}, {'title': 'Mars 2020 Unwrapped and Ready for More Testing', 'preview': \"In time-lapse video, bunny-suited engineers remove the inner layer of protective foil on NASA's Mars 2020 rover after it was relocated for testing.\"}, {'title': 'Mars 2020 Stands on Its Own Six Wheels', 'preview': \"In time-lapse video, taken at JPL, captures the first time NASA's Mars 2020 rover carries its full weight on its legs and wheels.\"}, {'title': \"NASA's Push to Save the Mars InSight Lander's Heat Probe\", 'preview': \"The scoop on the end of the spacecraft's robotic arm will be used to 'pin' the mole against the wall of its hole.\"}, {'title': \"NASA's Perseverance Rover Mission Getting in Shape for Launch\", 'preview': 'Stacking spacecraft components on top of each other is one of the final assembly steps before a mission launches to the Red Planet. '}]\n"
     ]
    }
   ],
   "source": [
    "# Print the list to confirm success\n",
    "print(articles)"
   ]
  },
  {
   "cell_type": "code",
   "execution_count": 45,
   "metadata": {
    "id": "0eyBzo2AmFQ4"
   },
   "outputs": [],
   "source": [
    "browser.quit()"
   ]
  },
  {
   "cell_type": "markdown",
   "metadata": {
    "id": "4IdRKBI2mFQ4"
   },
   "source": [
    "### (Optional) Step 4: Export the Data\n",
    "\n",
    "Optionally, store the scraped data in a file or database (to ease sharing the data with others). To do so, export the scraped data to either a JSON file or a MongoDB database."
   ]
  },
  {
   "cell_type": "code",
   "execution_count": null,
   "metadata": {
    "id": "MMashz9MmFQ4"
   },
   "outputs": [],
   "source": [
    "# Export data to JSON\n"
   ]
  },
  {
   "cell_type": "code",
   "execution_count": null,
   "metadata": {
    "id": "e0za5AowmFQ4"
   },
   "outputs": [],
   "source": [
    "# Export data to MongoDB\n"
   ]
  }
 ],
 "metadata": {
  "colab": {
   "provenance": []
  },
  "kernelspec": {
   "display_name": "Python [conda env:PythonData]",
   "language": "python",
   "name": "conda-env-PythonData-py"
  },
  "language_info": {
   "codemirror_mode": {
    "name": "ipython",
    "version": 3
   },
   "file_extension": ".py",
   "mimetype": "text/x-python",
   "name": "python",
   "nbconvert_exporter": "python",
   "pygments_lexer": "ipython3",
   "version": "3.7.13"
  }
 },
 "nbformat": 4,
 "nbformat_minor": 1
}
